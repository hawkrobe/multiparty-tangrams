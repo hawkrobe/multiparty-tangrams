{
 "cells": [
  {
   "cell_type": "markdown",
   "metadata": {},
   "source": [
    "# Imports"
   ]
  },
  {
   "cell_type": "code",
   "execution_count": 1,
   "metadata": {},
   "outputs": [],
   "source": [
    "import sys\n",
    "sys.path.append('../')\n",
    "%load_ext autoreload\n",
    "%autoreload 2\n",
    "\n",
    "import numpy as np\n",
    "import pandas as pd\n",
    "pd.set_option('display.max_rows', 500)\n",
    "\n",
    "import spacy\n",
    "import contextualSpellCheck\n",
    "\n",
    "from spacy.lang.en import English\n",
    "from spacy.attrs import POS\n",
    "nlp = spacy.load('en_core_web_lg')"
   ]
  },
  {
   "cell_type": "code",
   "execution_count": 2,
   "metadata": {},
   "outputs": [],
   "source": [
    "from nlp_utils import get_feats, lemmatize_doc\n",
    "from gensim.models.tfidfmodel import TfidfModel\n",
    "from gensim.corpora import Dictionary\n",
    "from gensim.matutils import sparse2full"
   ]
  },
  {
   "cell_type": "markdown",
   "metadata": {},
   "source": [
    "TODO: look at word frequency or something and do a better filter"
   ]
  },
  {
   "cell_type": "code",
   "execution_count": 3,
   "metadata": {},
   "outputs": [],
   "source": [
    "def stop (t) :\n",
    "    return t.is_stop or t.lemma_ in ['person', 'tangrams', 'tangram', 'look', 'like', 'ok']\n"
   ]
  },
  {
   "cell_type": "markdown",
   "metadata": {},
   "source": [
    "# pre-process text by lemmatizing"
   ]
  },
  {
   "cell_type": "code",
   "execution_count": 4,
   "metadata": {},
   "outputs": [],
   "source": [
    "#d_raw = pd.read_csv('../../data/study1/combined.csv', encoding='latin-1')\n",
    "d_raw = pd.read_csv('../../data/single_speaker/combined.csv', encoding='latin-1')"
   ]
  },
  {
   "cell_type": "code",
   "execution_count": 5,
   "metadata": {},
   "outputs": [],
   "source": [
    "d_raw['text'] = [nlp(text) for text in d_raw['utterance']] # once we add a spellchecker this will do it \n",
    "d_raw['non_stop_text'] = [[token for token in text if not stop(token)] for text in d_raw['text']]"
   ]
  },
  {
   "cell_type": "code",
   "execution_count": 6,
   "metadata": {},
   "outputs": [],
   "source": [
    "d_raw['lemmas'] = [lemmatize_doc(parsed_text) for parsed_text in d_raw['non_stop_text']]"
   ]
  },
  {
   "cell_type": "code",
   "execution_count": 7,
   "metadata": {},
   "outputs": [
    {
     "data": {
      "text/html": [
       "<div>\n",
       "<style scoped>\n",
       "    .dataframe tbody tr th:only-of-type {\n",
       "        vertical-align: middle;\n",
       "    }\n",
       "\n",
       "    .dataframe tbody tr th {\n",
       "        vertical-align: top;\n",
       "    }\n",
       "\n",
       "    .dataframe thead th {\n",
       "        text-align: right;\n",
       "    }\n",
       "</style>\n",
       "<table border=\"1\" class=\"dataframe\">\n",
       "  <thead>\n",
       "    <tr style=\"text-align: right;\">\n",
       "      <th></th>\n",
       "      <th>role</th>\n",
       "      <th>gameId</th>\n",
       "      <th>target</th>\n",
       "      <th>repNum</th>\n",
       "      <th>utterance</th>\n",
       "      <th>text</th>\n",
       "      <th>non_stop_text</th>\n",
       "      <th>lemmas</th>\n",
       "    </tr>\n",
       "  </thead>\n",
       "  <tbody>\n",
       "    <tr>\n",
       "      <th>0</th>\n",
       "      <td>speaker</td>\n",
       "      <td>exp1_1</td>\n",
       "      <td>101</td>\n",
       "      <td>1</td>\n",
       "      <td>two loops connected each other, they are solid...</td>\n",
       "      <td>(two, loops, connected, each, other, ,, they, ...</td>\n",
       "      <td>[loops, connected, ,, solid, black, ,, kind, t...</td>\n",
       "      <td>[loop, connect, solid, black, kind, thick]</td>\n",
       "    </tr>\n",
       "    <tr>\n",
       "      <th>1</th>\n",
       "      <td>speaker</td>\n",
       "      <td>exp1_1</td>\n",
       "      <td>102</td>\n",
       "      <td>1</td>\n",
       "      <td>almost equals sign, but not completely, they a...</td>\n",
       "      <td>(almost, equals, sign, ,, but, not, completely...</td>\n",
       "      <td>[equals, sign, ,, completely, ,, curved]</td>\n",
       "      <td>[equal, sign, completely, curved]</td>\n",
       "    </tr>\n",
       "    <tr>\n",
       "      <th>2</th>\n",
       "      <td>speaker</td>\n",
       "      <td>exp1_1</td>\n",
       "      <td>103</td>\n",
       "      <td>1</td>\n",
       "      <td>semicicle on top, and then there is a sideway ...</td>\n",
       "      <td>(semicicle, on, top, ,, and, then, there, is, ...</td>\n",
       "      <td>[semicicle, ,, sideway, T, line, ,, triangle, ...</td>\n",
       "      <td>[semicicle, sideway, t, line, triangle, sidewa...</td>\n",
       "    </tr>\n",
       "    <tr>\n",
       "      <th>3</th>\n",
       "      <td>speaker</td>\n",
       "      <td>exp1_1</td>\n",
       "      <td>104</td>\n",
       "      <td>1</td>\n",
       "      <td>a semicircle is coming from a line on the bottom</td>\n",
       "      <td>(a, semicircle, is, coming, from, a, line, on,...</td>\n",
       "      <td>[semicircle, coming, line]</td>\n",
       "      <td>[semicircle, come, line]</td>\n",
       "    </tr>\n",
       "    <tr>\n",
       "      <th>4</th>\n",
       "      <td>speaker</td>\n",
       "      <td>exp1_1</td>\n",
       "      <td>105</td>\n",
       "      <td>1</td>\n",
       "      <td>bunch of ovals all together, there is a smalle...</td>\n",
       "      <td>(bunch, of, ovals, all, together, ,, there, is...</td>\n",
       "      <td>[bunch, ovals, ,, smaller, circle, oval]</td>\n",
       "      <td>[bunch, oval, small, circle, oval]</td>\n",
       "    </tr>\n",
       "  </tbody>\n",
       "</table>\n",
       "</div>"
      ],
      "text/plain": [
       "      role  gameId  target  repNum  \\\n",
       "0  speaker  exp1_1     101       1   \n",
       "1  speaker  exp1_1     102       1   \n",
       "2  speaker  exp1_1     103       1   \n",
       "3  speaker  exp1_1     104       1   \n",
       "4  speaker  exp1_1     105       1   \n",
       "\n",
       "                                           utterance  \\\n",
       "0  two loops connected each other, they are solid...   \n",
       "1  almost equals sign, but not completely, they a...   \n",
       "2  semicicle on top, and then there is a sideway ...   \n",
       "3   a semicircle is coming from a line on the bottom   \n",
       "4  bunch of ovals all together, there is a smalle...   \n",
       "\n",
       "                                                text  \\\n",
       "0  (two, loops, connected, each, other, ,, they, ...   \n",
       "1  (almost, equals, sign, ,, but, not, completely...   \n",
       "2  (semicicle, on, top, ,, and, then, there, is, ...   \n",
       "3  (a, semicircle, is, coming, from, a, line, on,...   \n",
       "4  (bunch, of, ovals, all, together, ,, there, is...   \n",
       "\n",
       "                                       non_stop_text  \\\n",
       "0  [loops, connected, ,, solid, black, ,, kind, t...   \n",
       "1           [equals, sign, ,, completely, ,, curved]   \n",
       "2  [semicicle, ,, sideway, T, line, ,, triangle, ...   \n",
       "3                         [semicircle, coming, line]   \n",
       "4           [bunch, ovals, ,, smaller, circle, oval]   \n",
       "\n",
       "                                              lemmas  \n",
       "0         [loop, connect, solid, black, kind, thick]  \n",
       "1                  [equal, sign, completely, curved]  \n",
       "2  [semicicle, sideway, t, line, triangle, sidewa...  \n",
       "3                           [semicircle, come, line]  \n",
       "4                 [bunch, oval, small, circle, oval]  "
      ]
     },
     "execution_count": 7,
     "metadata": {},
     "output_type": "execute_result"
    }
   ],
   "source": [
    "d_raw.head()"
   ]
  },
  {
   "cell_type": "code",
   "execution_count": 8,
   "metadata": {},
   "outputs": [],
   "source": [
    "d = d_raw.copy()\n",
    "gameidList = pd.unique(d.gameId.ravel()).tolist()\n",
    "tangramList = pd.unique(d.target.ravel()).tolist()"
   ]
  },
  {
   "cell_type": "markdown",
   "metadata": {},
   "source": [
    "### Look at where conventions were introduced"
   ]
  },
  {
   "cell_type": "markdown",
   "metadata": {},
   "source": []
  },
  {
   "cell_type": "code",
   "execution_count": 9,
   "metadata": {},
   "outputs": [],
   "source": [
    "rows = []\n",
    "\n",
    "# For each game, look at referring expressions produced by director on later round\n",
    "for name, df in d.query('role == \"speaker\"').groupby(['gameId', 'repNum']) :\n",
    "    for i, row in df.sort_values('target').reset_index().iterrows() :\n",
    "        later_rep = row['repNum']\n",
    "        target = row['target']\n",
    "        content_words = np.unique(\n",
    "            [t.lemma_ for t in row.text \n",
    "             #if t.pos_ in [\"NOUN\", \"ADJ\", 'VERB'] #should reconsider if we care about this\n",
    "             if not stop(t)]\n",
    "        )\n",
    "        query_str = 'target == \"{}\"'.format(target)\n",
    "        for j, word in enumerate(content_words) :\n",
    "            for earlier_rep in range(0, later_rep) :\n",
    "                earlier_df = d.query('repNum == {} and gameId == \"{}\"'\n",
    "                                     .format(earlier_rep, name[0])).sort_values('target').reset_index()\n",
    "                match = word in np.array(list(earlier_df.query(query_str)['lemmas']),dtype=object).flatten()\n",
    "                rows.append([row['gameId'], row['target'],\n",
    "                             earlier_rep, later_rep, word, match])"
   ]
  },
  {
   "cell_type": "code",
   "execution_count": 10,
   "metadata": {},
   "outputs": [],
   "source": [
    "words_df = pd.DataFrame(rows,\n",
    "    columns = [ 'gameId', 'target', \n",
    "               'earlier_rep', 'later_rep',  'word', 'match']\n",
    ")"
   ]
  },
  {
   "cell_type": "code",
   "execution_count": 11,
   "metadata": {},
   "outputs": [],
   "source": [
    "#words_df.to_csv('../../data/study1/content/word_matches.csv', index=False)\n",
    "words_df.to_csv('../../data/single_speaker/word_matches.csv', index=False)"
   ]
  },
  {
   "cell_type": "markdown",
   "metadata": {},
   "source": [
    "We can also look at the inverse: probability of words on current round appearing at end... "
   ]
  },
  {
   "cell_type": "code",
   "execution_count": 12,
   "metadata": {},
   "outputs": [],
   "source": [
    "# rows = []\n",
    "\n",
    "# # For each game, look at referring expressions produced by director on final round\n",
    "# for name, rep_df in d.query('role == \"speaker\"').groupby(['gameId', 'repNum']) :\n",
    "#     rep_df = rep_df.sort_values('target').reset_index()\n",
    "#     final_df = d.query('repNum == 5 and role == \"speaker\" and gameId == \"{}\"'.format(name[0])).sort_values('target').reset_index()\n",
    "    \n",
    "#     # For each word used with each tangram, check whether it occured in each earlier round\n",
    "#     for i, row in rep_df.iterrows() :\n",
    "#         target = row['target']\n",
    "#         content_words = [t.lemma_ for t in row.text \n",
    "#                          if t.pos_ in [\"NOUN\", \"ADJ\", 'VERB'] \n",
    "#                          and not stop(t)]\n",
    "#         print('content', content_words)\n",
    "#         query_str = 'target == \"{}\"'.format(target)\n",
    "#         print(np.array(list(final_df.query(query_str)['lemmas'])).flatten())\n",
    "#         for j, word in enumerate(content_words) :\n",
    "#             final_match = word in np.array(list(final_df.query(query_str)['lemmas'])).flatten()\n",
    "#             rows.append([row['gameId'], row['repNum'], row['target'], row['playerId'], word, final_match])"
   ]
  },
  {
   "cell_type": "code",
   "execution_count": 13,
   "metadata": {},
   "outputs": [],
   "source": [
    "# words_df = pd.DataFrame(rows,\n",
    "#     columns = ['gameId', 'repNum', 'target', 'playerId', 'word', 'final_match']\n",
    "# )\n",
    "# words_df.to_csv('../../data/study1/inverse_word_matches.csv')"
   ]
  }
 ],
 "metadata": {
  "kernelspec": {
   "display_name": "Python [conda env:root] *",
   "language": "python",
   "name": "conda-root-py"
  },
  "language_info": {
   "codemirror_mode": {
    "name": "ipython",
    "version": 3
   },
   "file_extension": ".py",
   "mimetype": "text/x-python",
   "name": "python",
   "nbconvert_exporter": "python",
   "pygments_lexer": "ipython3",
   "version": "3.7.10"
  }
 },
 "nbformat": 4,
 "nbformat_minor": 4
}
