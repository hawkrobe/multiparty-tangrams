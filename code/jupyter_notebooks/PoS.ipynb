{
 "cells": [
  {
   "cell_type": "code",
   "execution_count": 1,
   "id": "52bc2f14",
   "metadata": {},
   "outputs": [],
   "source": [
    "import spacy\n",
    "from spacy.lang.en import English\n",
    "from spacy.attrs import POS\n",
    "import pandas as pd\n",
    "\n",
    "pd.set_option('display.max_rows', 10)\n",
    "nlp = spacy.load('en_core_web_lg')\n"
   ]
  },
  {
   "cell_type": "code",
   "execution_count": 2,
   "id": "2abacb8e",
   "metadata": {},
   "outputs": [],
   "source": [
    "d=pd.read_csv(\"../../data/study3/filtered_chat.csv\")#.head(200)\n",
    "d['parsedtext'] = [nlp(text) for text in d['text']]"
   ]
  },
  {
   "cell_type": "code",
   "execution_count": null,
   "id": "a0cc8d05",
   "metadata": {},
   "outputs": [],
   "source": []
  },
  {
   "cell_type": "code",
   "execution_count": 3,
   "id": "1dba50b8",
   "metadata": {},
   "outputs": [],
   "source": [
    "tag_dict = {}\n",
    "tag_counts = {}\n",
    "for doc in d['parsedtext'] :\n",
    "    for w in doc :\n",
    "        if w.pos_ not in tag_dict :\n",
    "            tag_dict[w.pos_] = w.pos\n",
    "            tag_counts[w.pos_] = 0\n",
    "        tag_counts[w.pos_] = tag_counts[w.pos_] + 1\n",
    "\n",
    "d['posCounts'] = [doc.count_by(POS) for doc in d['parsedtext']]\n",
    "for posStr in [\"NOUN\", \"PROPN\", \"DET\", \"PRON\", \"VERB\", \"ADJ\", \"CCONJ\", \"ADP\", 'ADV', 'AUX', 'SCONJ', 'NUM'] :\n",
    "    key_id = tag_dict[posStr]\n",
    "    d[posStr + 'count'] = [counts[key_id] if key_id in counts else 0 for counts in d['posCounts']]\n",
    "\n",
    "# the spacy one likes to call article-less initial nouns proper nouns, so we combine them\n",
    "d['NOUNcount'] = d['NOUNcount'] + d['PROPNcount']\n"
   ]
  },
  {
   "cell_type": "code",
   "execution_count": 6,
   "id": "772386b3",
   "metadata": {},
   "outputs": [],
   "source": [
    "d.to_csv(\"../../data/study3/PoSTagged.csv\", index=False)"
   ]
  }
 ],
 "metadata": {
  "kernelspec": {
   "display_name": "Python [conda env:root] *",
   "language": "python",
   "name": "conda-root-py"
  },
  "language_info": {
   "codemirror_mode": {
    "name": "ipython",
    "version": 3
   },
   "file_extension": ".py",
   "mimetype": "text/x-python",
   "name": "python",
   "nbconvert_exporter": "python",
   "pygments_lexer": "ipython3",
   "version": "3.7.10"
  }
 },
 "nbformat": 4,
 "nbformat_minor": 5
}
